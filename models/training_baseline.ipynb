{
 "cells": [
  {
   "cell_type": "code",
   "execution_count": 2,
   "metadata": {
    "collapsed": true
   },
   "outputs": [],
   "source": [
    "from sklearn.preprocessing import MinMaxScaler\n",
    "import numpy as np\n",
    "import pandas as pd\n",
    "import os"
   ]
  },
  {
   "cell_type": "code",
   "execution_count": 3,
   "metadata": {
    "collapsed": true
   },
   "outputs": [],
   "source": [
    "train_data = pd.DataFrame.from_csv(\"./data/train.csv\")\n",
    "test_feature = pd.DataFrame.from_csv(\"./data/test.csv\")"
   ]
  },
  {
   "cell_type": "code",
   "execution_count": 4,
   "metadata": {
    "collapsed": true
   },
   "outputs": [],
   "source": [
    "train_labels = train_data['species'].values\n",
    "train_feature = train_data[[i for i in train_data.columns if i != 'species']].values"
   ]
  },
  {
   "cell_type": "code",
   "execution_count": 5,
   "metadata": {
    "collapsed": true
   },
   "outputs": [],
   "source": [
    "minmax_scaler = MinMaxScaler()\n",
    "train_feature = minmax_scaler.fit_transform(np.array(train_feature))\n",
    "test_feature = minmax_scaler.transform(np.array(test_feature))"
   ]
  },
  {
   "cell_type": "code",
   "execution_count": 6,
   "metadata": {
    "collapsed": true
   },
   "outputs": [],
   "source": [
    "def train_validation_split(x, y):\n",
    "    idx = (list(range(len(y))))\n",
    "    np.random.shuffle(idx)\n",
    "    if type(y) != np.ndarray:\n",
    "        y = np.array(y)\n",
    "    if type(x) != np.ndarray:\n",
    "        x = np.array(x)\n",
    "    y = y[idx]\n",
    "    x = x[idx]\n",
    "    \n",
    "    vali_idx = []\n",
    "    s = {}\n",
    "    for k in set(y):\n",
    "        s[k] = 2\n",
    "        \n",
    "    for i in range(len(y)):\n",
    "        if s[y[i]] > 0:\n",
    "            vali_idx.append(i)\n",
    "            s[y[i]] = s[y[i]] - 1\n",
    "            \n",
    "    train_idx = [i for i in range(len(y)) if i not in vali_idx]\n",
    "    return  x[train_idx], x[vali_idx], y[train_idx], y[vali_idx]\n",
    "\n",
    "X_train, X_vali, y_train, y_vali = train_validation_split(train_feature, train_labels)"
   ]
  },
  {
   "cell_type": "code",
   "execution_count": 9,
   "metadata": {},
   "outputs": [
    {
     "name": "stdout",
     "output_type": "stream",
     "text": [
      "==============================\n",
      "KNeighborsClassifier\n",
      "****Results****\n",
      "Accuracy: 98.9899%\n",
      "Log Loss: 0.04181414746958705\n",
      "==============================\n",
      "SVC\n",
      "****Results****\n",
      "Accuracy: 96.4646%\n",
      "Log Loss: 4.607019726014684\n",
      "==============================\n",
      "NuSVC\n",
      "****Results****\n",
      "Accuracy: 98.9899%\n",
      "Log Loss: 2.306675775274814\n",
      "==============================\n",
      "DecisionTreeClassifier\n",
      "****Results****\n",
      "Accuracy: 70.2020%\n",
      "Log Loss: 10.291857612625\n",
      "==============================\n",
      "RandomForestClassifier\n",
      "****Results****\n",
      "Accuracy: 89.3939%\n",
      "Log Loss: 1.1503751647889526\n",
      "==============================\n",
      "AdaBoostClassifier\n",
      "****Results****\n",
      "Accuracy: 2.5253%\n",
      "Log Loss: 4.782314362109733\n",
      "==============================\n",
      "GradientBoostingClassifier\n",
      "****Results****\n",
      "Accuracy: 58.0808%\n",
      "Log Loss: 2.7347275610739064\n",
      "==============================\n",
      "GaussianNB\n",
      "****Results****\n",
      "Accuracy: 61.1111%\n",
      "Log Loss: 13.431746375798701\n",
      "==============================\n",
      "LinearDiscriminantAnalysis\n",
      "****Results****\n",
      "Accuracy: 97.4747%\n",
      "Log Loss: 1.179704885492833\n",
      "==============================\n",
      "QuadraticDiscriminantAnalysis\n",
      "****Results****\n",
      "Accuracy: 3.0303%\n",
      "Log Loss: 33.49214680718621\n",
      "==============================\n"
     ]
    },
    {
     "name": "stderr",
     "output_type": "stream",
     "text": [
      "/Users/Ageha/anaconda/lib/python3.6/site-packages/sklearn/discriminant_analysis.py:455: UserWarning: The priors do not sum to 1. Renormalizing\n",
      "  UserWarning)\n",
      "/Users/Ageha/anaconda/lib/python3.6/site-packages/sklearn/discriminant_analysis.py:387: UserWarning: Variables are collinear.\n",
      "  warnings.warn(\"Variables are collinear.\")\n",
      "/Users/Ageha/anaconda/lib/python3.6/site-packages/sklearn/discriminant_analysis.py:523: RuntimeWarning: overflow encountered in exp\n",
      "  np.exp(prob, prob)\n",
      "/Users/Ageha/anaconda/lib/python3.6/site-packages/sklearn/discriminant_analysis.py:695: UserWarning: Variables are collinear\n",
      "  warnings.warn(\"Variables are collinear\")\n"
     ]
    }
   ],
   "source": [
    "from sklearn.metrics import accuracy_score, log_loss\n",
    "from sklearn.neighbors import KNeighborsClassifier\n",
    "from sklearn.svm import SVC, LinearSVC, NuSVC\n",
    "from sklearn.tree import DecisionTreeClassifier\n",
    "from sklearn.ensemble import RandomForestClassifier, AdaBoostClassifier, GradientBoostingClassifier\n",
    "from sklearn.naive_bayes import GaussianNB\n",
    "from sklearn.discriminant_analysis import LinearDiscriminantAnalysis\n",
    "from sklearn.discriminant_analysis import QuadraticDiscriminantAnalysis\n",
    "\n",
    "classifiers = [\n",
    "    KNeighborsClassifier(3),\n",
    "    SVC(kernel=\"rbf\", C=0.025, probability=True),\n",
    "    NuSVC(probability=True),\n",
    "    DecisionTreeClassifier(),\n",
    "    RandomForestClassifier(),\n",
    "    AdaBoostClassifier(),\n",
    "    GradientBoostingClassifier(),\n",
    "    GaussianNB(),\n",
    "    LinearDiscriminantAnalysis(),\n",
    "    QuadraticDiscriminantAnalysis()]\n",
    "\n",
    "# Logging for Visual Comparison\n",
    "log_cols=[\"Classifier\", \"Accuracy\", \"Log Loss\"]\n",
    "log = pd.DataFrame(columns=log_cols)\n",
    "\n",
    "\n",
    "for clf in classifiers:\n",
    "    clf.fit(X_train, y_train)\n",
    "    name = clf.__class__.__name__\n",
    "    \n",
    "    print(\"=\"*30)\n",
    "    print(name)\n",
    "    \n",
    "    print('****Results****')\n",
    "    train_predictions = clf.predict(X_vali)\n",
    "    acc = accuracy_score(y_vali, train_predictions)\n",
    "    print(\"Accuracy: {:.4%}\".format(acc))\n",
    "    \n",
    "    train_predictions = clf.predict_proba(X_vali)\n",
    "    ll = log_loss(y_vali, train_predictions)\n",
    "    print(\"Log Loss: {}\".format(ll))\n",
    "    \n",
    "    log_entry = pd.DataFrame([[name, acc*100, ll]], columns=log_cols)\n",
    "    log = log.append(log_entry)\n",
    "    \n",
    "print(\"=\"*30)\n"
   ]
  },
  {
   "cell_type": "code",
   "execution_count": 10,
   "metadata": {
    "collapsed": true
   },
   "outputs": [],
   "source": [
    "def prepare_submission_file(clf, file_name):\n",
    "    if (os.path.exists('./baseline_submission/') is False):\n",
    "        os.mkdir('./baseline_submission/')\n",
    "    res = clf.predict_proba(test_feature)\n",
    "    max_idx = np.argmax(res,axis=1)\n",
    "    zeros = np.zeros(shape = res.shape)\n",
    "    for i in range(len(max_idx)):\n",
    "        zeros[i][max_idx[i]] = 1\n",
    "    submission = pd.DataFrame(zeros, columns=clf.classes_)\n",
    "    submission.insert(0, 'id', pd.DataFrame.from_csv(\"./data/test.csv\").index.values)\n",
    "    submission.to_csv(\"./baseline_submission/\" + file_name + \".csv\", index=False)"
   ]
  },
  {
   "cell_type": "code",
   "execution_count": 11,
   "metadata": {},
   "outputs": [],
   "source": [
    "# best_clf = classifiers[2]\n",
    "# log.to_csv(\"./baseline_submission/log.csv\")\n",
    "# for i in classifiers:\n",
    "i = KNeighborsClassifier(3)\n",
    "i.fit(train_feature, train_labels)\n",
    "prepare_submission_file(i,i.__class__.__name__)"
   ]
  },
  {
   "cell_type": "code",
   "execution_count": null,
   "metadata": {
    "collapsed": true
   },
   "outputs": [],
   "source": []
  }
 ],
 "metadata": {
  "kernelspec": {
   "display_name": "Python 3",
   "language": "python",
   "name": "python3"
  },
  "language_info": {
   "codemirror_mode": {
    "name": "ipython",
    "version": 3
   },
   "file_extension": ".py",
   "mimetype": "text/x-python",
   "name": "python",
   "nbconvert_exporter": "python",
   "pygments_lexer": "ipython3",
   "version": "3.6.1"
  }
 },
 "nbformat": 4,
 "nbformat_minor": 2
}
