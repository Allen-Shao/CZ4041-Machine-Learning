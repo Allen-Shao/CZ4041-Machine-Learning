{
 "cells": [
  {
   "cell_type": "code",
   "execution_count": 1,
   "metadata": {
    "collapsed": true
   },
   "outputs": [],
   "source": [
    "import numpy as np                     # numeric python lib\n",
    "\n",
    "import matplotlib.image as mpimg       # reading images to numpy arrays\n",
    "import matplotlib.pyplot as plt        # to plot any graph\n",
    "import matplotlib.patches as mpatches  # to draw a circle at the mean contour\n",
    "\n",
    "from skimage import measure            # to find shape contour\n",
    "import scipy.ndimage as ndi            # to determine shape centrality\n",
    "\n",
    "from skimage.feature import corner_harris, corner_subpix, corner_peaks, CENSURE\n",
    "from scipy.signal import argrelextrema\n",
    "import os\n",
    "# matplotlib setup\n",
    "%matplotlib inline\n",
    "from pylab import rcParams\n",
    "rcParams['figure.figsize'] = (6, 6)  \n"
   ]
  },
  {
   "cell_type": "code",
   "execution_count": 5,
   "metadata": {},
   "outputs": [],
   "source": [
    "x = np.array([[[1,11,111], [2,22,222], [3,33,333]], \n",
    "              [[4,44,444], [5,55,555], [6,66,666]], \n",
    "              [[7,77,777], [8,88,888], [9,99,999]]])\n",
    "\n",
    "# reverse the first dimension\n",
    "# take the 0th element\n",
    "# and take its last element\n",
    "x[::-1, 0, -1]\n",
    "def cart2pol(x, y):\n",
    "    rho = np.sqrt(x**2 + y**2)\n",
    "    phi = np.arctan2(y, x)\n",
    "    return [rho, phi]"
   ]
  },
  {
   "cell_type": "code",
   "execution_count": 6,
   "metadata": {
    "collapsed": true
   },
   "outputs": [],
   "source": [
    "def compute(img):\n",
    "    # using image processing module of scipy to find the center of the leaf\n",
    "    cy, cx = ndi.center_of_mass(img)\n",
    "    contours = measure.find_contours(img, .8)\n",
    "\n",
    "    # from which we choose the longest one\n",
    "    contour = max(contours, key=len)\n",
    "    \n",
    "    # just calling the transformation on all pairs in the set\n",
    "    polar_contour = np.array([cart2pol(x, y) for x, y in contour])\n",
    "    \n",
    "    contour[::,1] -= cx  # demean X\n",
    "    contour[::,0] -= cy  # demean Y\n",
    "    \n",
    "    polar_contour = np.array([cart2pol(x, y) for x, y in contour])\n",
    "    \n",
    "    detector = CENSURE()\n",
    "    detector.detect(img)\n",
    "\n",
    "    coords = corner_peaks(corner_harris(img), min_distance=5)\n",
    "    coords_subpix = corner_subpix(img, coords, window_size=13)\n",
    "    \n",
    "#     c_max_index = argrelextrema(polar_contour[::,0], np.greater, order=50)\n",
    "#     c_min_index = argrelextrema(polar_contour[::,0], np.less, order=50)\n",
    "    \n",
    "    return polar_contour[polar_contour[:,1].argsort()]"
   ]
  },
  {
   "cell_type": "code",
   "execution_count": 7,
   "metadata": {},
   "outputs": [],
   "source": [
    "for filename in os.listdir(\"./data/images/\"):\n",
    "    img = mpimg.imread('./data/images/' + filename)\n",
    "    \n",
    "    np.savetxt('./data/features/'+filename[:-4]+'.txt', compute(img), fmt='%f')\n"
   ]
  },
  {
   "cell_type": "code",
   "execution_count": null,
   "metadata": {
    "collapsed": true
   },
   "outputs": [],
   "source": []
  }
 ],
 "metadata": {
  "kernelspec": {
   "display_name": "Python 3",
   "language": "python",
   "name": "python3"
  },
  "language_info": {
   "codemirror_mode": {
    "name": "ipython",
    "version": 3
   },
   "file_extension": ".py",
   "mimetype": "text/x-python",
   "name": "python",
   "nbconvert_exporter": "python",
   "pygments_lexer": "ipython3",
   "version": "3.6.1"
  }
 },
 "nbformat": 4,
 "nbformat_minor": 2
}
